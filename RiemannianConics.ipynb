{
 "cells": [
  {
   "cell_type": "markdown",
   "metadata": {},
   "source": [
    "We start defining the variables. We use complex variables $t_1,t_2,t$ and their differentials $dt_1,dt_2,dt$. We name their conjugates to simplify the writing.\n",
    "We also define real variables $x,y$ and the parameters satisfying $0<s\\leq r\\leq 1$."
   ]
  },
  {
   "cell_type": "code",
   "execution_count": 1,
   "metadata": {},
   "outputs": [],
   "source": [
    "var('t1,t2,dt1,dt2,t,dt',domain='complex')\n",
    "u1,u2,du1,du2,u,du=[v.conjugate() for v in [t1,t2,dt1,dt2,t,dt]]\n",
    "var('r,s,x,y,dx,dy',domain='real')\n",
    "assume(0<s<=r<=1)\n"
   ]
  },
  {
   "cell_type": "markdown",
   "metadata": {},
   "source": [
    "We express Fubini-Study hermitian metric of $\\mathbb{P}^2$ for the chart $\\mathbb{C}^2\\to\\mathbb{P}^2$, $(t_1,t_2)\\mapsto[t_1:t_2:1]$. We interpret as a 2-tensor in $dt_i$ and conjugates."
   ]
  },
  {
   "cell_type": "code",
   "execution_count": 2,
   "metadata": {},
   "outputs": [
    {
     "data": {
      "text/html": [
       "<html><script type=\"math/tex; mode=display\">\\newcommand{\\Bold}[1]{\\mathbf{#1}}-\\frac{\\mathit{dt}_{1} t_{2} \\overline{\\mathit{dt}_{2}} \\overline{t_{1}} + \\mathit{dt}_{2} t_{1} \\overline{\\mathit{dt}_{1}} \\overline{t_{2}} - {\\left(t_{2} \\overline{t_{2}} + 1\\right)} \\mathit{dt}_{1} \\overline{\\mathit{dt}_{1}} - {\\left(t_{1} \\overline{t_{1}} + 1\\right)} \\mathit{dt}_{2} \\overline{\\mathit{dt}_{2}}}{{\\left(t_{1} \\overline{t_{1}} + t_{2} \\overline{t_{2}} + 1\\right)}^{2}}</script></html>"
      ],
      "text/plain": [
       "-(dt1*t2*conjugate(dt2)*conjugate(t1) + dt2*t1*conjugate(dt1)*conjugate(t2) - (t2*conjugate(t2) + 1)*dt1*conjugate(dt1) - (t1*conjugate(t1) + 1)*dt2*conjugate(dt2))/(t1*conjugate(t1) + t2*conjugate(t2) + 1)^2"
      ]
     },
     "metadata": {},
     "output_type": "display_data"
    }
   ],
   "source": [
    "h=((1+t2*u2)*dt1*du1+(1+t1*u1)*dt2*du2-t1*u2*dt2*du1-t2*u1*dt1*du2)/(1+t1*u1+t2*u2)^2\n",
    "show(h)"
   ]
  },
  {
   "cell_type": "markdown",
   "metadata": {},
   "source": [
    "For the conic $C_{r,s}$ with equation $t_1^2+ r^2 t_2^2+s^2 t_3^2=0$, we consider the parametrization $$\n",
    "t\\in\\mathbb{C}\\cup\\{\\infty\\}\\mapsto[r(s^2-t^2):I(s^2+t^2):2 r t].\n",
    "$$\n",
    "Everything is written in affine coordinates."
   ]
  },
  {
   "cell_type": "code",
   "execution_count": 3,
   "metadata": {},
   "outputs": [
    {
     "data": {
      "text/plain": [
       "0"
      ]
     },
     "execution_count": 3,
     "metadata": {},
     "output_type": "execute_result"
    }
   ],
   "source": [
    "p=(s^2-t^2)/2/t\n",
    "q=I*(s^2+t^2)/2/r/t\n",
    "V=vector([p,q])\n",
    "F=t1^2+r^2*t2^2+s^2\n",
    "F(t1=p,t2=q).simplify_full()"
   ]
  },
  {
   "cell_type": "code",
   "execution_count": 4,
   "metadata": {},
   "outputs": [],
   "source": [
    "dp=p.derivative(t).simplify_full()*dt\n",
    "dq=q.derivative(t).simplify_full()*dt"
   ]
  },
  {
   "cell_type": "markdown",
   "metadata": {},
   "source": [
    "We write down the restriction of the hermitian metric to the conic $C_{r,s}$ in the above chart."
   ]
  },
  {
   "cell_type": "code",
   "execution_count": 5,
   "metadata": {},
   "outputs": [
    {
     "data": {
      "text/html": [
       "<html><script type=\"math/tex; mode=display\">\\newcommand{\\Bold}[1]{\\mathbf{#1}}\\frac{4 \\, {\\left(r^{2} s^{4} + r^{2} s^{2} t^{2} + 4 \\, s^{4} t \\overline{t} + r^{2} s^{2} \\overline{t}^{2} + r^{2} t^{2} \\overline{t}^{2} + s^{4} - s^{2} t^{2} - s^{2} \\overline{t}^{2} + t^{2} \\overline{t}^{2}\\right)} \\mathit{dt} r^{2} \\overline{\\mathit{dt}}}{{\\left(r^{2} s^{4} - r^{2} s^{2} t^{2} - r^{2} s^{2} \\overline{t}^{2} + r^{2} t^{2} \\overline{t}^{2} + s^{4} + s^{2} t^{2} + 4 \\, r^{2} t \\overline{t} + s^{2} \\overline{t}^{2} + t^{2} \\overline{t}^{2}\\right)}^{2}}</script></html>"
      ],
      "text/plain": [
       "4*(r^2*s^4 + r^2*s^2*t^2 + 4*s^4*t*conjugate(t) + r^2*s^2*conjugate(t)^2 + r^2*t^2*conjugate(t)^2 + s^4 - s^2*t^2 - s^2*conjugate(t)^2 + t^2*conjugate(t)^2)*dt*r^2*conjugate(dt)/(r^2*s^4 - r^2*s^2*t^2 - r^2*s^2*conjugate(t)^2 + r^2*t^2*conjugate(t)^2 + s^4 + s^2*t^2 + 4*r^2*t*conjugate(t) + s^2*conjugate(t)^2 + t^2*conjugate(t)^2)^2"
      ]
     },
     "metadata": {},
     "output_type": "display_data"
    }
   ],
   "source": [
    "h1=h(t1=p,dt1=dp,t2=q,dt2=dq).factor()\n",
    "show(h1)"
   ]
  },
  {
   "cell_type": "markdown",
   "metadata": {},
   "source": [
    "In real coordinates $(x,y)\\mapsto t=x+i y$, the real part of the hermitian form is a riemannian metric, and the chart is isothermal, i.e., it is of the form $h_2(x,y)(dx\\otimes dx+dy\\otimes dy)$. We check that the formula for $h_2$ in the paper is correct."
   ]
  },
  {
   "cell_type": "code",
   "execution_count": 6,
   "metadata": {},
   "outputs": [],
   "source": [
    "h2=(h1(t=x+I*y,dt=dx+I*dy)/(dx+I*dy)/(dx-I*dy)).factor()"
   ]
  },
  {
   "cell_type": "code",
   "execution_count": 7,
   "metadata": {},
   "outputs": [
    {
     "data": {
      "text/html": [
       "<html><script type=\"math/tex; mode=display\">\\newcommand{\\Bold}[1]{\\mathbf{#1}}{\\left(r^{2} + 1\\right)} s^{4} + 4 \\, {\\left(x^{2} + y^{2}\\right)} s^{4} + 2 \\, {\\left(r^{2} - 1\\right)} {\\left(x^{2} - y^{2}\\right)} s^{2} + {\\left(r^{2} + 1\\right)} {\\left(x^{2} + y^{2}\\right)}^{2}</script></html>"
      ],
      "text/plain": [
       "(r^2 + 1)*s^4 + 4*(x^2 + y^2)*s^4 + 2*(r^2 - 1)*(x^2 - y^2)*s^2 + (r^2 + 1)*(x^2 + y^2)^2"
      ]
     },
     "metadata": {},
     "output_type": "display_data"
    }
   ],
   "source": [
    "K1=(r^2 + 1)*s^4 + 4 *(x^2 + y^2)*s^4 + 2*(r^2 - 1)*(x^2 - y^2)*s^2 + (r^2 + 1)*(x^2 + y^2)^2\n",
    "show(K1)"
   ]
  },
  {
   "cell_type": "code",
   "execution_count": 8,
   "metadata": {},
   "outputs": [
    {
     "data": {
      "text/html": [
       "<html><script type=\"math/tex; mode=display\">\\newcommand{\\Bold}[1]{\\mathbf{#1}}{\\left(r^{2} + 1\\right)} s^{4} - 2 \\, {\\left(r^{2} - 1\\right)} {\\left(x^{2} - y^{2}\\right)} s^{2} + {\\left(r^{2} + 1\\right)} {\\left(x^{2} + y^{2}\\right)}^{2} + 4 \\, {\\left(x^{2} + y^{2}\\right)} r^{2}</script></html>"
      ],
      "text/plain": [
       "(r^2 + 1)*s^4 - 2*(r^2 - 1)*(x^2 - y^2)*s^2 + (r^2 + 1)*(x^2 + y^2)^2 + 4*(x^2 + y^2)*r^2"
      ]
     },
     "metadata": {},
     "output_type": "display_data"
    }
   ],
   "source": [
    "K2=(r^2 + 1)*s^4 - 2 *(r^2 - 1)*(x^2 - y^2)*s^2 + (r^2 + 1)*(x^2 + y^2)^2 + 4*(x^2+ y^2)*r^2\n",
    "show(K2)"
   ]
  },
  {
   "cell_type": "code",
   "execution_count": 9,
   "metadata": {},
   "outputs": [
    {
     "data": {
      "text/plain": [
       "0"
      ]
     },
     "execution_count": 9,
     "metadata": {},
     "output_type": "execute_result"
    }
   ],
   "source": [
    "(h2-4*r^2*K1/K2^2).simplify_full()"
   ]
  },
  {
   "cell_type": "markdown",
   "metadata": {},
   "source": [
    "For a riemannian metric with isothermal coordinates, $h (dx\\otimes dx+dy\\otimes dy)$, the formula for Gauss curvature is\n",
    "$$\n",
    "K=\\frac{h_x^2+h_y^2-h(h_{xx}+h_{yy}}{2 h^3}.\n",
    "$$\n",
    "We check the formula in the paper is correct."
   ]
  },
  {
   "cell_type": "code",
   "execution_count": 10,
   "metadata": {},
   "outputs": [],
   "source": [
    "K=(h2.derivative(x)^2+h2.derivative(y)^2-h2*(h2.derivative(x,2)+h2.derivative(y,2)))/h2^3/2"
   ]
  },
  {
   "cell_type": "code",
   "execution_count": 11,
   "metadata": {},
   "outputs": [
    {
     "data": {
      "text/plain": [
       "0"
      ]
     },
     "execution_count": 11,
     "metadata": {},
     "output_type": "execute_result"
    }
   ],
   "source": [
    "(K-4+2*s^4/r^2*(K2/K1)^3).simplify_full()"
   ]
  },
  {
   "cell_type": "markdown",
   "metadata": {},
   "source": [
    "We start studying the maxima and minima of $K$; which are reached at the same points as for $K_0=\\frac{K_1}{K_2}$. We compute its derivatives."
   ]
  },
  {
   "cell_type": "code",
   "execution_count": 12,
   "metadata": {},
   "outputs": [],
   "source": [
    "K0=K1/K2"
   ]
  },
  {
   "cell_type": "code",
   "execution_count": 13,
   "metadata": {},
   "outputs": [
    {
     "name": "stdout",
     "output_type": "stream",
     "text": [
      "8*(r^4*s^6 + r^2*s^8 - r^4*s^2*x^4 - r^2*s^4*x^4 + 4*r^2*s^6*y^2 + 2*r^4*s^2*x^2*y^2 - 2*r^2*s^4*x^2*y^2 + 3*r^4*s^2*y^4 - r^2*s^4*y^4 - r^4*s^4 + s^8 + r^4*x^4 - s^4*x^4 + 4*r^4*s^2*y^2 - 4*s^6*y^2 + 2*r^4*x^2*y^2 - 2*s^4*x^2*y^2 + r^4*y^4 - s^4*y^4 - r^2*s^4 - s^6 + r^2*x^4 + s^2*x^4 - 4*r^2*s^2*y^2 + 2*r^2*x^2*y^2 - 2*s^2*x^2*y^2 + r^2*y^4 - 3*s^2*y^4)*x\n",
      "-8*(r^4*s^6 - r^2*s^8 + 4*r^2*s^6*x^2 + 3*r^4*s^2*x^4 + r^2*s^4*x^4 + 2*r^4*s^2*x^2*y^2 + 2*r^2*s^4*x^2*y^2 - r^4*s^2*y^4 + r^2*s^4*y^4 + r^4*s^4 - s^8 + 4*r^4*s^2*x^2 - 4*s^6*x^2 - r^4*x^4 + s^4*x^4 - 2*r^4*x^2*y^2 + 2*s^4*x^2*y^2 - r^4*y^4 + s^4*y^4 + r^2*s^4 - s^6 - 4*r^2*s^2*x^2 - r^2*x^4 - 3*s^2*x^4 - 2*r^2*x^2*y^2 - 2*s^2*x^2*y^2 - r^2*y^4 + s^2*y^4)*y\n"
     ]
    }
   ],
   "source": [
    "K0x=K0.derivative(x).factor().numerator()\n",
    "K0y=K0.derivative(y).factor().numerator()\n",
    "print(K0x)\n",
    "print(K0y)"
   ]
  },
  {
   "cell_type": "markdown",
   "metadata": {},
   "source": [
    "Note that $x\\mid K_{0x}$ and $y\\mid K_{0y}$; the other factors are polynomials in $x^2,y^2,r^2,s^2$, so we pass them to a ring with variables $x_1=x^2$, etc."
   ]
  },
  {
   "cell_type": "code",
   "execution_count": 14,
   "metadata": {},
   "outputs": [],
   "source": [
    "R.<x1,y1,r1,s1>=PolynomialRing(QQ,order='lex')"
   ]
  },
  {
   "cell_type": "code",
   "execution_count": 15,
   "metadata": {},
   "outputs": [],
   "source": [
    "def ChangeOfCoord(p):\n",
    "    p0=p(x=sqrt(x),y=sqrt(y),r=sqrt(r),s=sqrt(s))\n",
    "    return R(p0(x=x1,y=y1,r=r1,s=s1))"
   ]
  },
  {
   "cell_type": "markdown",
   "metadata": {},
   "source": [
    "We convert $K_0$, $\\frac{K_{0x}}{x}$ and $\\frac{K_{0y}}{y}$ to the new ring."
   ]
  },
  {
   "cell_type": "code",
   "execution_count": 16,
   "metadata": {},
   "outputs": [],
   "source": [
    "Lx=ChangeOfCoord(K0x/x)\n",
    "Ly=ChangeOfCoord(K0y/y)\n",
    "L0=ChangeOfCoord(K1.factor())/ChangeOfCoord(K2.factor())"
   ]
  },
  {
   "cell_type": "markdown",
   "metadata": {},
   "source": [
    "We compute the critical points and their values when $(r,s)$ are in the interior of the triangle. The first one is $(x_1,y_1)=(0,0)$, i.e $(x,y)=(0,0)$. The critical value for $K_0$ equals 1. As $K=4-\\frac{2 s^4}{r^2 K_0^3}$, the critical value for $K$ equals $\\frac{4 r^2-2 s^4}{r^2}$. As it is expected by symmetry is the same value as for the limit when $x_1,y_1\\to\\infty$."
   ]
  },
  {
   "cell_type": "code",
   "execution_count": 17,
   "metadata": {},
   "outputs": [
    {
     "data": {
      "text/plain": [
       "1"
      ]
     },
     "execution_count": 17,
     "metadata": {},
     "output_type": "execute_result"
    }
   ],
   "source": [
    "L0(x1=0,y1=0)"
   ]
  },
  {
   "cell_type": "code",
   "execution_count": 18,
   "metadata": {},
   "outputs": [
    {
     "data": {
      "text/plain": [
       "(1, 1)"
      ]
     },
     "execution_count": 18,
     "metadata": {},
     "output_type": "execute_result"
    }
   ],
   "source": [
    "limit(L0,x1=oo),limit(L0,y1=oo)"
   ]
  },
  {
   "cell_type": "markdown",
   "metadata": {},
   "source": [
    "The next computations say that $(x_1,y_1)=(0,s_1)$, i.e., $(x,y)=(0,\\pm s)$. The critial value for $K_0$ is $\\frac{s_1}{r_1}=\\frac{s^2}{r^2}$. The critical value for $K$ is\n",
    "$\\frac{4 s^2- 2 r^4}{ s^2}$."
   ]
  },
  {
   "cell_type": "code",
   "execution_count": 19,
   "metadata": {},
   "outputs": [
    {
     "data": {
      "text/plain": [
       "(8) * (s1 + 1) * (-r1 + s1) * (r1 + 1) * (-y1 + s1) * (y1 + s1)"
      ]
     },
     "execution_count": 19,
     "metadata": {},
     "output_type": "execute_result"
    }
   ],
   "source": [
    "Ly(x1=0).factor()"
   ]
  },
  {
   "cell_type": "code",
   "execution_count": 20,
   "metadata": {},
   "outputs": [
    {
     "data": {
      "text/plain": [
       "r1^-1 * s1"
      ]
     },
     "execution_count": 20,
     "metadata": {},
     "output_type": "execute_result"
    }
   ],
   "source": [
    "L0(x1=0,y1=s1).factor()"
   ]
  },
  {
   "cell_type": "markdown",
   "metadata": {},
   "source": [
    "Another critical point is $(x_1,y_1)=(s_1,0)$, i.e., $(x,y)=(\\pm s,0)$. The critial value for $K_0$ is $s_1=s^2$. The critical value for $K$ is $\\frac{4 r^2 s^2 -2}{r^2 s^2}$."
   ]
  },
  {
   "cell_type": "code",
   "execution_count": 21,
   "metadata": {},
   "outputs": [
    {
     "data": {
      "text/plain": [
       "(8) * (s1 - 1) * (r1 + 1) * (r1 + s1) * (-x1 + s1) * (x1 + s1)"
      ]
     },
     "execution_count": 21,
     "metadata": {},
     "output_type": "execute_result"
    }
   ],
   "source": [
    "Lx(y1=0).factor()"
   ]
  },
  {
   "cell_type": "code",
   "execution_count": 22,
   "metadata": {},
   "outputs": [
    {
     "data": {
      "text/plain": [
       "s1"
      ]
     },
     "execution_count": 22,
     "metadata": {},
     "output_type": "execute_result"
    }
   ],
   "source": [
    "L0(x1=s1,y1=0)"
   ]
  },
  {
   "cell_type": "markdown",
   "metadata": {},
   "source": [
    "Other critical points will come from $L_x=L_y=0$. We compute the resultant and we keep the only factor involving $y_1$."
   ]
  },
  {
   "cell_type": "code",
   "execution_count": 23,
   "metadata": {},
   "outputs": [
    {
     "data": {
      "text/plain": [
       "(-65536) * (s1 - 1) * (s1 + 1) * (-r1 + s1) * (r1 + 1) * (r1 + s1) * (r1 - 1)^2 * s1^3 * (4*y1^2*r1^3*s1 - 4*y1^2*r1^2*s1 - 4*y1^2*r1*s1 + 4*y1^2*s1 + 4*y1*r1^3*s1 - 4*y1*r1^3 + 4*y1*r1^2*s1^3 - 8*y1*r1^2*s1 + 4*y1*r1^2 + 4*y1*r1*s1^4 - 8*y1*r1*s1^3 + 4*y1*r1*s1 - 4*y1*s1^4 + 4*y1*s1^3 + r1^3*s1^3 - 2*r1^3*s1^2 + r1^3*s1 + 2*r1^2*s1^4 - 3*r1^2*s1^3 + r1^2*s1 + r1*s1^5 - 3*r1*s1^3 + 2*r1*s1^2 + s1^5 - 2*s1^4 + s1^3)"
      ]
     },
     "execution_count": 23,
     "metadata": {},
     "output_type": "execute_result"
    }
   ],
   "source": [
    "res0=Ly.resultant(Lx,x1)\n",
    "res0.factor()"
   ]
  },
  {
   "cell_type": "code",
   "execution_count": 24,
   "metadata": {},
   "outputs": [
    {
     "name": "stdout",
     "output_type": "stream",
     "text": [
      "2\n"
     ]
    },
    {
     "data": {
      "text/plain": [
       "4*y1^2*r1^3*s1 - 4*y1^2*r1^2*s1 - 4*y1^2*r1*s1 + 4*y1^2*s1 + 4*y1*r1^3*s1 - 4*y1*r1^3 + 4*y1*r1^2*s1^3 - 8*y1*r1^2*s1 + 4*y1*r1^2 + 4*y1*r1*s1^4 - 8*y1*r1*s1^3 + 4*y1*r1*s1 - 4*y1*s1^4 + 4*y1*s1^3 + r1^3*s1^3 - 2*r1^3*s1^2 + r1^3*s1 + 2*r1^2*s1^4 - 3*r1^2*s1^3 + r1^2*s1 + r1*s1^5 - 3*r1*s1^3 + 2*r1*s1^2 + s1^5 - 2*s1^4 + s1^3"
      ]
     },
     "execution_count": 24,
     "metadata": {},
     "output_type": "execute_result"
    }
   ],
   "source": [
    "res1=res0.factor()[-1][0]\n",
    "print(res1.degree(y1))\n",
    "res1"
   ]
  },
  {
   "cell_type": "markdown",
   "metadata": {},
   "source": [
    "Let us factorize the coefficients in $y_1$."
   ]
  },
  {
   "cell_type": "code",
   "execution_count": 25,
   "metadata": {},
   "outputs": [
    {
     "data": {
      "text/html": [
       "<html><script type=\"math/tex; mode=display\">\\newcommand{\\Bold}[1]{\\mathbf{#1}}s_{1} \\cdot (r_{1} + 1) \\cdot (s_{1} - 1)^{2} \\cdot (r_{1} + s_{1})^{2}</script></html>"
      ],
      "text/plain": [
       "s1 * (r1 + 1) * (s1 - 1)^2 * (r1 + s1)^2"
      ]
     },
     "metadata": {},
     "output_type": "display_data"
    },
    {
     "data": {
      "text/html": [
       "<html><script type=\"math/tex; mode=display\">\\newcommand{\\Bold}[1]{\\mathbf{#1}}\\left(4\\right) \\cdot (s_{1} - 1) \\cdot (r_{1} - 1) \\cdot (r_{1} + s_{1}) \\cdot (r_{1} + s_{1}^{2})</script></html>"
      ],
      "text/plain": [
       "(4) * (s1 - 1) * (r1 - 1) * (r1 + s1) * (r1 + s1^2)"
      ]
     },
     "metadata": {},
     "output_type": "display_data"
    },
    {
     "data": {
      "text/html": [
       "<html><script type=\"math/tex; mode=display\">\\newcommand{\\Bold}[1]{\\mathbf{#1}}\\left(4\\right) \\cdot s_{1} \\cdot (r_{1} + 1) \\cdot (r_{1} - 1)^{2}</script></html>"
      ],
      "text/plain": [
       "(4) * s1 * (r1 + 1) * (r1 - 1)^2"
      ]
     },
     "metadata": {},
     "output_type": "display_data"
    }
   ],
   "source": [
    "for j in [0..2]:\n",
    "    show(res1.coefficient({y1:j}).factor())"
   ]
  },
  {
   "cell_type": "markdown",
   "metadata": {},
   "source": [
    "Since the three coefficients are positive, none of the roots are positive, and no critical point is obtained in this ways. The critical values for $K_0$ are $1>\\frac{s^2}{r^2}>s^2$.\n",
    "\n",
    "- Maxima for $(0,0),\\infty$: $K_0\\to 1$, $K\\to\\frac{4 r^2-2 s^4}{r^2}$.\n",
    "- Saddle points for $(0,\\pm s)$: $K_0\\to \\frac{s^2}{r^2}$, $K\\to\\frac{4 s^2- 2 r^4}{ s^2}$.\n",
    "- Minima for $(\\pm s,0)$: $K_0\\to s^2$, $K\\to\\frac{4 r^2 s^2 -2}{r^2 s^2}$.\n",
    "\n",
    "The points in the conics are obtained from the parametrization:\n",
    "\n",
    "- Maxima: $[\\pm r:i:0]$.\n",
    "- Saddle points: $[\\pm s:0:i]$.\n",
    "- Minima: $[0:s:\\pm ir]$."
   ]
  },
  {
   "cell_type": "code",
   "execution_count": 26,
   "metadata": {},
   "outputs": [
    {
     "data": {
      "text/html": [
       "<html><script type=\"math/tex; mode=display\">\\newcommand{\\Bold}[1]{\\mathbf{#1}}\\left(r,\\,i,\\,0\\right)</script></html>"
      ],
      "text/plain": [
       "(r, I, 0)"
      ]
     },
     "metadata": {},
     "output_type": "display_data"
    },
    {
     "data": {
      "text/html": [
       "<html><script type=\"math/tex; mode=display\">\\newcommand{\\Bold}[1]{\\mathbf{#1}}\\left(s,\\,0,\\,i\\right)</script></html>"
      ],
      "text/plain": [
       "(s, 0, I)"
      ]
     },
     "metadata": {},
     "output_type": "display_data"
    },
    {
     "data": {
      "text/html": [
       "<html><script type=\"math/tex; mode=display\">\\newcommand{\\Bold}[1]{\\mathbf{#1}}\\left(0,\\,s,\\,-i \\, r\\right)</script></html>"
      ],
      "text/plain": [
       "(0, s, -I*r)"
      ]
     },
     "metadata": {},
     "output_type": "display_data"
    }
   ],
   "source": [
    "P=2*r*t*vector([p,q,1])\n",
    "show(P(t=0)/s^2)\n",
    "show(P(t=I*s)/2/r/s)\n",
    "show(P(t=s)/2/s/I)"
   ]
  },
  {
   "cell_type": "markdown",
   "metadata": {},
   "source": [
    "Let us study the case $s=r<1$. The maxima are obtained in $x=0$."
   ]
  },
  {
   "cell_type": "code",
   "execution_count": 27,
   "metadata": {},
   "outputs": [
    {
     "data": {
      "text/html": [
       "<html><script type=\"math/tex; mode=display\">\\newcommand{\\Bold}[1]{\\mathbf{#1}}\\left(16\\right) \\cdot s_{1} \\cdot (s_{1} - 1) \\cdot (s_{1} + 1) \\cdot (-x_{1} + y_{1} + s_{1}) \\cdot (x_{1} + y_{1} + s_{1})</script></html>"
      ],
      "text/plain": [
       "(16) * s1 * (s1 - 1) * (s1 + 1) * (-x1 + y1 + s1) * (x1 + y1 + s1)"
      ]
     },
     "metadata": {},
     "output_type": "display_data"
    },
    {
     "data": {
      "text/html": [
       "<html><script type=\"math/tex; mode=display\">\\newcommand{\\Bold}[1]{\\mathbf{#1}}\\left(-32\\right) \\cdot s_{1} \\cdot (s_{1} - 1) \\cdot (s_{1} + 1) \\cdot x_{1} \\cdot (x_{1} + y_{1} + s_{1})</script></html>"
      ],
      "text/plain": [
       "(-32) * s1 * (s1 - 1) * (s1 + 1) * x1 * (x1 + y1 + s1)"
      ]
     },
     "metadata": {},
     "output_type": "display_data"
    }
   ],
   "source": [
    "L0rs=L0(r1=s1)\n",
    "Lxrs=Lx(r1=s1)\n",
    "Lyrs=Ly(r1=s1)\n",
    "show(Lxrs.factor())\n",
    "show(Lyrs.factor())"
   ]
  },
  {
   "cell_type": "code",
   "execution_count": 28,
   "metadata": {},
   "outputs": [
    {
     "data": {
      "text/plain": [
       "1"
      ]
     },
     "execution_count": 28,
     "metadata": {},
     "output_type": "execute_result"
    }
   ],
   "source": [
    "L0rs(x1=0)"
   ]
  },
  {
   "cell_type": "markdown",
   "metadata": {},
   "source": [
    "Let us study the case $s<r=1$. The minima are obtained in $x^2+y^2=s^2$."
   ]
  },
  {
   "cell_type": "code",
   "execution_count": 29,
   "metadata": {},
   "outputs": [
    {
     "data": {
      "text/html": [
       "<html><script type=\"math/tex; mode=display\">\\newcommand{\\Bold}[1]{\\mathbf{#1}}\\left(16\\right) \\cdot (s_{1} - 1) \\cdot (s_{1} + 1) \\cdot (-x_{1} - y_{1} + s_{1}) \\cdot (x_{1} + y_{1} + s_{1})</script></html>"
      ],
      "text/plain": [
       "(16) * (s1 - 1) * (s1 + 1) * (-x1 - y1 + s1) * (x1 + y1 + s1)"
      ]
     },
     "metadata": {},
     "output_type": "display_data"
    },
    {
     "data": {
      "text/html": [
       "<html><script type=\"math/tex; mode=display\">\\newcommand{\\Bold}[1]{\\mathbf{#1}}\\left(16\\right) \\cdot (s_{1} - 1) \\cdot (s_{1} + 1) \\cdot (-x_{1} - y_{1} + s_{1}) \\cdot (x_{1} + y_{1} + s_{1})</script></html>"
      ],
      "text/plain": [
       "(16) * (s1 - 1) * (s1 + 1) * (-x1 - y1 + s1) * (x1 + y1 + s1)"
      ]
     },
     "metadata": {},
     "output_type": "display_data"
    }
   ],
   "source": [
    "L0s1=L0(r1=1)\n",
    "Lxs1=Lx(r1=1)\n",
    "Lys1=Ly(r1=1)\n",
    "show(Lxs1.factor())\n",
    "show(Lys1.factor())"
   ]
  },
  {
   "cell_type": "code",
   "execution_count": 30,
   "metadata": {},
   "outputs": [
    {
     "data": {
      "text/plain": [
       "s1"
      ]
     },
     "execution_count": 30,
     "metadata": {},
     "output_type": "execute_result"
    }
   ],
   "source": [
    "L0s1(y1=s1-x1)"
   ]
  },
  {
   "cell_type": "markdown",
   "metadata": {},
   "source": [
    "Finally, the case $s=r=1$."
   ]
  },
  {
   "cell_type": "code",
   "execution_count": 31,
   "metadata": {},
   "outputs": [
    {
     "data": {
      "text/plain": [
       "1"
      ]
     },
     "execution_count": 31,
     "metadata": {},
     "output_type": "execute_result"
    }
   ],
   "source": [
    "L0(r1=1,s1=1)"
   ]
  },
  {
   "cell_type": "code",
   "execution_count": null,
   "metadata": {},
   "outputs": [],
   "source": []
  }
 ],
 "metadata": {
  "kernelspec": {
   "display_name": "SageMath 9.0.rc0",
   "language": "sage",
   "name": "sagemath"
  },
  "language_info": {
   "codemirror_mode": {
    "name": "ipython",
    "version": 3
   },
   "file_extension": ".py",
   "mimetype": "text/x-python",
   "name": "python",
   "nbconvert_exporter": "python",
   "pygments_lexer": "ipython3",
   "version": "3.7.3"
  }
 },
 "nbformat": 4,
 "nbformat_minor": 4
}
